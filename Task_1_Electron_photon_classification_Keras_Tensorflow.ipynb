{
  "cells": [
    {
      "cell_type": "markdown",
      "metadata": {
        "id": "view-in-github",
        "colab_type": "text"
      },
      "source": [
        "<a href=\"https://colab.research.google.com/github/Devdeep-J-S/Vision-Transformers-CMS/blob/main/Task_1_Electron_photon_classification_Keras_Tensorflow.ipynb\" target=\"_parent\"><img src=\"https://colab.research.google.com/assets/colab-badge.svg\" alt=\"Open In Colab\"/></a>"
      ]
    },
    {
      "cell_type": "markdown",
      "metadata": {
        "id": "6y6oVIbhO4AQ"
      },
      "source": [
        "Name : Devdeep Shetranjiwala <br>\n",
        "Email ID : devdeep0702@gmail.com "
      ]
    },
    {
      "cell_type": "markdown",
      "metadata": {
        "id": "7hBKj3grO4Vt"
      },
      "source": [
        "## Task 1. Electron/photon classification\n",
        "Datasets:</br>\n",
        "https://cernbox.cern.ch/index.php/s/AtBT8y4MiQYFcgc (photons) </br>\n",
        "https://cernbox.cern.ch/index.php/s/FbXw3V4XNyYB3oA (electrons) </br>\n",
        "> Description: </br>\n",
        "32x32 matrices (two channels - hit energy and time) for two classes of particles electrons and photons impinging on a calorimeter\n",
        "Please use a deep learning method of your choice to achieve the highest possible\n",
        "classification on this dataset.\n",
        "\n",
        ">In this task, we will use deep learning to classify two classes of particles: electrons and photons impinging on a calorimeter. We will use two datasets, one for photons and one for electrons, which contains 32x32 matrices (two channels - hit energy and time) for each particle.</br>\n",
        "We will usw deep learning framework to implement our solution, Keras/TensorFlow. Our goal is to achieve the highest possible classification accuracy on this dataset with a ROC AUC score of at least 0.80.\n",
        "</br>\n",
        "First, we will load the data and preprocess it.<br>\n",
        "Data Preprocessing : </br>\n",
        "We will load the datasets for photons and electrons and preprocess them. We will convert the data into numpy arrays and normalize them by dividing each pixel value by the maximum pixel value."
      ]
    },
    {
      "cell_type": "code",
      "execution_count": null,
      "metadata": {
        "id": "4PjjcssqQKcV"
      },
      "outputs": [],
      "source": [
        "import h5py\n",
        "import numpy as np\n",
        "from sklearn.model_selection import train_test_split\n",
        "from sklearn.metrics import roc_auc_score\n",
        "import tensorflow as tf\n",
        "import matplotlib.pyplot as plt\n",
        "import pickle\n",
        "import seaborn as sns\n",
        "import sys"
      ]
    },
    {
      "cell_type": "code",
      "execution_count": null,
      "metadata": {
        "colab": {
          "base_uri": "https://localhost:8080/"
        },
        "id": "iM9Wkz6XOn5L",
        "outputId": "4d82edbc-c972-4294-eb02-62e65b0545ef"
      },
      "outputs": [
        {
          "name": "stdout",
          "output_type": "stream",
          "text": [
            "Num of GPUs Available:  1\n"
          ]
        }
      ],
      "source": [
        "print(\"Num of GPUs Available: \", len(tf.config.list_physical_devices('GPU')))"
      ]
    },
    {
      "cell_type": "code",
      "execution_count": null,
      "metadata": {
        "colab": {
          "base_uri": "https://localhost:8080/"
        },
        "id": "6aoXtid3P1y5",
        "outputId": "b28b2d0a-f308-4dc2-ea02-73a5f118209f"
      },
      "outputs": [
        {
          "data": {
            "text/plain": [
              "128927319"
            ]
          },
          "execution_count": 3,
          "metadata": {},
          "output_type": "execute_result"
        }
      ],
      "source": [
        "#Getting data\n",
        "import requests\n",
        "url = 'https://cernbox.cern.ch/remote.php/dav/public-files/AtBT8y4MiQYFcgc/SinglePhotonPt50_IMGCROPS_n249k_RHv1.hdf5'\n",
        "r = requests.get(url, allow_redirects=True)\n",
        "open('photons.hdf5', 'wb').write(r.content)\n",
        "url = 'https://cernbox.cern.ch/remote.php/dav/public-files/FbXw3V4XNyYB3oA/SingleElectronPt50_IMGCROPS_n249k_RHv1.hdf5'\n",
        "r = requests.get(url, allow_redirects=True)\n",
        "open('electrons.hdf5', 'wb').write(r.content)"
      ]
    },
    {
      "cell_type": "markdown",
      "metadata": {
        "id": "K9eVp-5ZRPxZ"
      },
      "source": [
        ">Model definition:</br>\n",
        "Keras/TensorFlow</br>\n",
        "We will define a simple convolutional neural network (CNN) with two convolutional layers, followed by a max pooling layer, and two fully connected layers. We will use the sigmoid activation function in the last layer as this is a binary classification problem."
      ]
    },
    {
      "cell_type": "code",
      "execution_count": null,
      "metadata": {
        "id": "vs1fVU6yQOtU"
      },
      "outputs": [],
      "source": [
        "class Net(tf.keras.Model):\n",
        "    def __init__(self, skip_connection=False):\n",
        "        super().__init__()\n",
        "        self.skip_connection = skip_connection\n",
        "        self.rflip = tf.keras.layers.RandomFlip(mode=\"horizontal_and_vertical\")\n",
        "        self.conv1 = tf.keras.layers.Conv2D(filters=64, kernel_size=3, padding='same', activation='relu')\n",
        "        self.conv1p1 = tf.keras.layers.Conv2D(filters=64, kernel_size=3, padding='same')\n",
        "        self.maxpool1 = tf.keras.layers.MaxPooling2D(pool_size=(2, 2))\n",
        "        self.batchnorm1 = tf.keras.layers.BatchNormalization()\n",
        "        \n",
        "        self.conv2 = tf.keras.layers.Conv2D(filters=128, kernel_size=3, padding='same', activation='relu')\n",
        "        self.conv2p1 = tf.keras.layers.Conv2D(filters=128, kernel_size=3, padding='same')\n",
        "        self.maxpool2 = tf.keras.layers.MaxPooling2D(pool_size=(2, 2))\n",
        "        self.batchnorm2 = tf.keras.layers.BatchNormalization()\n",
        "        \n",
        "        self.conv3 = tf.keras.layers.Conv2D(filters=128, kernel_size=3, padding='same', activation='relu')\n",
        "        self.conv3p1 = tf.keras.layers.Conv2D(filters=128, kernel_size=3, padding='same')\n",
        "        self.maxpool3 = tf.keras.layers.MaxPooling2D(pool_size=(2, 2))\n",
        "        self.batchnorm3 = tf.keras.layers.BatchNormalization()\n",
        "        \n",
        "        self.conv4 = tf.keras.layers.Conv2D(filters=64, kernel_size=1, padding='same', activation='relu')\n",
        "        \n",
        "        self.gloavgpool = tf.keras.layers.GlobalAveragePooling2D()\n",
        "        \n",
        "        self.dense1 = tf.keras.layers.Dense(1, activation='sigmoid')\n",
        "        self.dropout1 = tf.keras.layers.Dropout(.1)\n",
        "    \n",
        "    def build_graph(self):\n",
        "        x = tf.keras.layers.Input(shape=train_x.shape[1:])\n",
        "        return tf.keras.Model(inputs=[x], outputs=self.call(x))\n",
        "\n",
        "    def call(self, inputs):\n",
        "        x = self.rflip(inputs)\n",
        "        \n",
        "        x_res = self.conv1(x)\n",
        "        x = self.conv1p1(x_res)\n",
        "        if self.skip_connection: x = x+x_res\n",
        "        x = self.maxpool1(x)\n",
        "        x = self.batchnorm1(tf.keras.layers.ReLU()(x))\n",
        "        \n",
        "        x_res = self.conv2(x)\n",
        "        x = self.conv2p1(x_res)\n",
        "        if self.skip_connection: x = x+x_res\n",
        "        x = self.maxpool2(x)\n",
        "        x = self.batchnorm2(tf.keras.layers.ReLU()(x))\n",
        "        \n",
        "        x_res = self.conv3(x)\n",
        "        x = self.conv3p1(x_res)\n",
        "        if self.skip_connection: x = x+x_res\n",
        "        x = self.maxpool3(x)\n",
        "        x = self.batchnorm3(tf.keras.layers.ReLU()(x))\n",
        "        \n",
        "        x = self.conv4(x)\n",
        "        \n",
        "        x = self.dropout1(self.gloavgpool(x))\n",
        "        \n",
        "        return self.dense1(x)\n"
      ]
    },
    {
      "cell_type": "code",
      "execution_count": null,
      "metadata": {
        "id": "3EqGwlyAQQU8"
      },
      "outputs": [],
      "source": [
        "#read the hdf5 fies\n",
        "e_set = h5py.File('./electrons.hdf5', 'r')\n",
        "p_set = h5py.File('./photons.hdf5', 'r')\n",
        "\n",
        "#convert to np arrays\n",
        "e_x, p_x = np.asarray(e_set['X']), np.asarray(p_set['X'])\n",
        "\n",
        "del(e_set,p_set)\n",
        "#concat the electon/photon arrays\n",
        "ep_x = np.concatenate([e_x, p_x])\n",
        "ep_target = np.concatenate([np.ones(len(e_x)), np.zeros(len(p_x))])\n",
        "\n",
        "del(e_x,p_x)\n",
        "#remove entries with all zeros\n",
        "nonzeros = np.sum(ep_x, axis=(1,2,3))!=0\n",
        "ep_x, ep_target = ep_x[nonzeros], ep_target[nonzeros]\n",
        "\n",
        "#set seed for reproducibility\n",
        "seed = 42\n",
        "\n",
        "#split into train (80%) /test (20%) set and save\n",
        "X_train, X_test, y_train, y_test = train_test_split(ep_x, ep_target, test_size=0.2, stratify=ep_target, random_state=seed)\n",
        "\n",
        "del(ep_x,ep_target)\n",
        "#normalize data with training set mean and std to ensure no data leakage\n",
        "X_train_mean, X_train_std = X_train.mean((0,1,2)), X_train.std((0,1,2))\n",
        "X_train = (X_train-X_train_mean)/X_train_std\n",
        "X_test = (X_test-X_train_mean)/X_train_std\n",
        "del(X_train_mean,X_train_std)\n",
        "\n",
        "#split into train (60% train , 20% validate , 20% test) -> 80 / 20 \n",
        "X_train, X_valid, y_train, y_valid = train_test_split(X_train,y_train, test_size=0.2, stratify=y_train, random_state=seed)\n",
        "\n",
        "train_x, train_y = X_train, y_train\n",
        "del(X_train,y_train)\n",
        "valid_x, valid_y = X_valid, y_valid\n",
        "del(X_valid,y_valid)\n",
        "test_x, test_y = X_test,y_test\n",
        "del(X_test,y_test)"
      ]
    },
    {
      "cell_type": "code",
      "execution_count": null,
      "metadata": {
        "colab": {
          "base_uri": "https://localhost:8080/"
        },
        "id": "btVCgtyjQVc8",
        "outputId": "68525fdc-3ff8-4ab0-adf3-55fd7a260e21"
      },
      "outputs": [
        {
          "name": "stdout",
          "output_type": "stream",
          "text": [
            "Model: \"model\"\n",
            "_________________________________________________________________\n",
            " Layer (type)                Output Shape              Param #   \n",
            "=================================================================\n",
            " input_1 (InputLayer)        [(None, 32, 32, 2)]       0         \n",
            "                                                                 \n",
            " random_flip (RandomFlip)    (None, 32, 32, 2)         0         \n",
            "                                                                 \n",
            " conv2d (Conv2D)             (None, 32, 32, 64)        1216      \n",
            "                                                                 \n",
            " conv2d_1 (Conv2D)           (None, 32, 32, 64)        36928     \n",
            "                                                                 \n",
            " max_pooling2d (MaxPooling2D  (None, 16, 16, 64)       0         \n",
            " )                                                               \n",
            "                                                                 \n",
            " re_lu (ReLU)                (None, 16, 16, 64)        0         \n",
            "                                                                 \n",
            " batch_normalization (BatchN  (None, 16, 16, 64)       256       \n",
            " ormalization)                                                   \n",
            "                                                                 \n",
            " conv2d_2 (Conv2D)           (None, 16, 16, 128)       73856     \n",
            "                                                                 \n",
            " conv2d_3 (Conv2D)           (None, 16, 16, 128)       147584    \n",
            "                                                                 \n",
            " max_pooling2d_1 (MaxPooling  (None, 8, 8, 128)        0         \n",
            " 2D)                                                             \n",
            "                                                                 \n",
            " re_lu_1 (ReLU)              (None, 8, 8, 128)         0         \n",
            "                                                                 \n",
            " batch_normalization_1 (Batc  (None, 8, 8, 128)        512       \n",
            " hNormalization)                                                 \n",
            "                                                                 \n",
            " conv2d_4 (Conv2D)           (None, 8, 8, 128)         147584    \n",
            "                                                                 \n",
            " conv2d_5 (Conv2D)           (None, 8, 8, 128)         147584    \n",
            "                                                                 \n",
            " max_pooling2d_2 (MaxPooling  (None, 4, 4, 128)        0         \n",
            " 2D)                                                             \n",
            "                                                                 \n",
            " re_lu_2 (ReLU)              (None, 4, 4, 128)         0         \n",
            "                                                                 \n",
            " batch_normalization_2 (Batc  (None, 4, 4, 128)        512       \n",
            " hNormalization)                                                 \n",
            "                                                                 \n",
            " conv2d_6 (Conv2D)           (None, 4, 4, 64)          8256      \n",
            "                                                                 \n",
            " global_average_pooling2d (G  (None, 64)               0         \n",
            " lobalAveragePooling2D)                                          \n",
            "                                                                 \n",
            " dropout (Dropout)           (None, 64)                0         \n",
            "                                                                 \n",
            " dense (Dense)               (None, 1)                 65        \n",
            "                                                                 \n",
            "=================================================================\n",
            "Total params: 564,353\n",
            "Trainable params: 563,713\n",
            "Non-trainable params: 640\n",
            "_________________________________________________________________\n"
          ]
        }
      ],
      "source": [
        "model = Net()\n",
        "model.build_graph().summary()"
      ]
    },
    {
      "cell_type": "code",
      "execution_count": null,
      "metadata": {
        "id": "AUKJK8ovQcCs"
      },
      "outputs": [],
      "source": [
        "model.compile(optimizer=tf.keras.optimizers.Adam(),\n",
        "              loss=tf.keras.losses.BinaryCrossentropy(),\n",
        "              metrics=[tf.keras.metrics.BinaryAccuracy(),\n",
        "                    tf.keras.metrics.AUC(name='auc')])"
      ]
    },
    {
      "cell_type": "code",
      "execution_count": null,
      "metadata": {
        "colab": {
          "base_uri": "https://localhost:8080/"
        },
        "id": "wDlAit0YQg-E",
        "outputId": "2158da8d-7336-4e52-c8e2-ce339c0b0211"
      },
      "outputs": [
        {
          "name": "stdout",
          "output_type": "stream",
          "text": [
            "Epoch 1/100\n",
            "9949/9949 [==============================] - 106s 9ms/step - loss: 0.6017 - binary_accuracy: 0.6800 - auc: 0.7363 - val_loss: 0.5695 - val_binary_accuracy: 0.7106 - val_auc: 0.7739\n",
            "Epoch 2/100\n",
            "9949/9949 [==============================] - 89s 9ms/step - loss: 0.5699 - binary_accuracy: 0.7112 - auc: 0.7739 - val_loss: 0.5699 - val_binary_accuracy: 0.7108 - val_auc: 0.7818\n",
            "Epoch 3/100\n",
            "9949/9949 [==============================] - 89s 9ms/step - loss: 0.5627 - binary_accuracy: 0.7178 - auc: 0.7813 - val_loss: 0.5579 - val_binary_accuracy: 0.7194 - val_auc: 0.7886\n",
            "Epoch 4/100\n",
            "9949/9949 [==============================] - 89s 9ms/step - loss: 0.5584 - binary_accuracy: 0.7208 - auc: 0.7854 - val_loss: 0.5541 - val_binary_accuracy: 0.7260 - val_auc: 0.7918\n",
            "Epoch 5/100\n",
            "9949/9949 [==============================] - 89s 9ms/step - loss: 0.5544 - binary_accuracy: 0.7239 - auc: 0.7894 - val_loss: 0.5505 - val_binary_accuracy: 0.7253 - val_auc: 0.7959\n",
            "Epoch 6/100\n",
            "9949/9949 [==============================] - 91s 9ms/step - loss: 0.5518 - binary_accuracy: 0.7254 - auc: 0.7918 - val_loss: 0.5507 - val_binary_accuracy: 0.7265 - val_auc: 0.7954\n",
            "Epoch 7/100\n",
            "9949/9949 [==============================] - 91s 9ms/step - loss: 0.5503 - binary_accuracy: 0.7266 - auc: 0.7934 - val_loss: 0.5554 - val_binary_accuracy: 0.7250 - val_auc: 0.7954\n",
            "Epoch 8/100\n",
            "9949/9949 [==============================] - 91s 9ms/step - loss: 0.5483 - binary_accuracy: 0.7286 - auc: 0.7953 - val_loss: 0.5446 - val_binary_accuracy: 0.7317 - val_auc: 0.8010\n",
            "Epoch 9/100\n",
            "9949/9949 [==============================] - 91s 9ms/step - loss: 0.5463 - binary_accuracy: 0.7302 - auc: 0.7970 - val_loss: 0.5503 - val_binary_accuracy: 0.7281 - val_auc: 0.7983\n",
            "Epoch 10/100\n",
            "9949/9949 [==============================] - 92s 9ms/step - loss: 0.5453 - binary_accuracy: 0.7305 - auc: 0.7981 - val_loss: 0.5465 - val_binary_accuracy: 0.7314 - val_auc: 0.7995\n",
            "Epoch 11/100\n",
            "9949/9949 [==============================] - 88s 9ms/step - loss: 0.5438 - binary_accuracy: 0.7323 - auc: 0.7995 - val_loss: 0.5447 - val_binary_accuracy: 0.7286 - val_auc: 0.7992\n",
            "Epoch 12/100\n",
            "9949/9949 [==============================] - 92s 9ms/step - loss: 0.5430 - binary_accuracy: 0.7319 - auc: 0.8001 - val_loss: 0.5440 - val_binary_accuracy: 0.7312 - val_auc: 0.8012\n",
            "Epoch 13/100\n",
            "9949/9949 [==============================] - 91s 9ms/step - loss: 0.5420 - binary_accuracy: 0.7330 - auc: 0.8010 - val_loss: 0.5427 - val_binary_accuracy: 0.7310 - val_auc: 0.8017\n",
            "Epoch 14/100\n",
            "9949/9949 [==============================] - 90s 9ms/step - loss: 0.5403 - binary_accuracy: 0.7349 - auc: 0.8027 - val_loss: 0.5495 - val_binary_accuracy: 0.7276 - val_auc: 0.7991\n",
            "Epoch 15/100\n",
            "9949/9949 [==============================] - 88s 9ms/step - loss: 0.5396 - binary_accuracy: 0.7344 - auc: 0.8033 - val_loss: 0.5378 - val_binary_accuracy: 0.7353 - val_auc: 0.8052\n",
            "Epoch 16/100\n",
            "9949/9949 [==============================] - 90s 9ms/step - loss: 0.5383 - binary_accuracy: 0.7355 - auc: 0.8043 - val_loss: 0.5389 - val_binary_accuracy: 0.7352 - val_auc: 0.8048\n",
            "Epoch 17/100\n",
            "9949/9949 [==============================] - 92s 9ms/step - loss: 0.5374 - binary_accuracy: 0.7359 - auc: 0.8052 - val_loss: 0.5409 - val_binary_accuracy: 0.7309 - val_auc: 0.8052\n",
            "Epoch 18/100\n",
            "9949/9949 [==============================] - 92s 9ms/step - loss: 0.5367 - binary_accuracy: 0.7367 - auc: 0.8059 - val_loss: 0.5518 - val_binary_accuracy: 0.7345 - val_auc: 0.8040\n",
            "Epoch 19/100\n",
            "9949/9949 [==============================] - 89s 9ms/step - loss: 0.5356 - binary_accuracy: 0.7372 - auc: 0.8069 - val_loss: 0.5405 - val_binary_accuracy: 0.7338 - val_auc: 0.8046\n",
            "Epoch 20/100\n",
            "9949/9949 [==============================] - 92s 9ms/step - loss: 0.5349 - binary_accuracy: 0.7374 - auc: 0.8074 - val_loss: 0.5467 - val_binary_accuracy: 0.7281 - val_auc: 0.8047\n",
            "Epoch 21/100\n",
            "9949/9949 [==============================] - 91s 9ms/step - loss: 0.5340 - binary_accuracy: 0.7378 - auc: 0.8082 - val_loss: 0.5416 - val_binary_accuracy: 0.7359 - val_auc: 0.8071\n",
            "Epoch 22/100\n",
            "9949/9949 [==============================] - 92s 9ms/step - loss: 0.5333 - binary_accuracy: 0.7390 - auc: 0.8089 - val_loss: 0.5386 - val_binary_accuracy: 0.7342 - val_auc: 0.8070\n",
            "Epoch 23/100\n",
            "9949/9949 [==============================] - 91s 9ms/step - loss: 0.5323 - binary_accuracy: 0.7397 - auc: 0.8097 - val_loss: 0.5405 - val_binary_accuracy: 0.7347 - val_auc: 0.8069\n",
            "Epoch 24/100\n",
            "9949/9949 [==============================] - 91s 9ms/step - loss: 0.5316 - binary_accuracy: 0.7403 - auc: 0.8103 - val_loss: 0.5427 - val_binary_accuracy: 0.7347 - val_auc: 0.8065\n",
            "Epoch 25/100\n",
            "9949/9949 [==============================] - 92s 9ms/step - loss: 0.5305 - binary_accuracy: 0.7405 - auc: 0.8112 - val_loss: 0.5331 - val_binary_accuracy: 0.7386 - val_auc: 0.8094\n",
            "Epoch 26/100\n",
            "9949/9949 [==============================] - 89s 9ms/step - loss: 0.5298 - binary_accuracy: 0.7411 - auc: 0.8119 - val_loss: 0.5340 - val_binary_accuracy: 0.7381 - val_auc: 0.8087\n",
            "Epoch 27/100\n",
            "9949/9949 [==============================] - 91s 9ms/step - loss: 0.5293 - binary_accuracy: 0.7414 - auc: 0.8123 - val_loss: 0.5322 - val_binary_accuracy: 0.7390 - val_auc: 0.8096\n",
            "Epoch 28/100\n",
            "9949/9949 [==============================] - 91s 9ms/step - loss: 0.5282 - binary_accuracy: 0.7424 - auc: 0.8131 - val_loss: 0.5350 - val_binary_accuracy: 0.7368 - val_auc: 0.8079\n",
            "Epoch 29/100\n",
            "9949/9949 [==============================] - 90s 9ms/step - loss: 0.5277 - binary_accuracy: 0.7422 - auc: 0.8136 - val_loss: 0.5349 - val_binary_accuracy: 0.7373 - val_auc: 0.8072\n",
            "Epoch 30/100\n",
            "9949/9949 [==============================] - 92s 9ms/step - loss: 0.5269 - binary_accuracy: 0.7430 - auc: 0.8144 - val_loss: 0.5380 - val_binary_accuracy: 0.7360 - val_auc: 0.8093\n",
            "Epoch 31/100\n",
            "9949/9949 [==============================] - 91s 9ms/step - loss: 0.5263 - binary_accuracy: 0.7434 - auc: 0.8149 - val_loss: 0.5539 - val_binary_accuracy: 0.7236 - val_auc: 0.7960\n",
            "Epoch 32/100\n",
            "9949/9949 [==============================] - 89s 9ms/step - loss: 0.5248 - binary_accuracy: 0.7444 - auc: 0.8161 - val_loss: 0.5409 - val_binary_accuracy: 0.7326 - val_auc: 0.8041\n",
            "Epoch 33/100\n",
            "9949/9949 [==============================] - 90s 9ms/step - loss: 0.5248 - binary_accuracy: 0.7444 - auc: 0.8161 - val_loss: 0.5331 - val_binary_accuracy: 0.7401 - val_auc: 0.8099\n",
            "Epoch 34/100\n",
            "9949/9949 [==============================] - 89s 9ms/step - loss: 0.5238 - binary_accuracy: 0.7458 - auc: 0.8170 - val_loss: 0.5352 - val_binary_accuracy: 0.7382 - val_auc: 0.8077\n",
            "Epoch 35/100\n",
            "9949/9949 [==============================] - 92s 9ms/step - loss: 0.5230 - binary_accuracy: 0.7457 - auc: 0.8177 - val_loss: 0.5372 - val_binary_accuracy: 0.7380 - val_auc: 0.8082\n",
            "Epoch 36/100\n",
            "9949/9949 [==============================] - 93s 9ms/step - loss: 0.5223 - binary_accuracy: 0.7461 - auc: 0.8182 - val_loss: 0.5375 - val_binary_accuracy: 0.7362 - val_auc: 0.8081\n",
            "Epoch 37/100\n",
            "9949/9949 [==============================] - 92s 9ms/step - loss: 0.5216 - binary_accuracy: 0.7466 - auc: 0.8189 - val_loss: 0.5358 - val_binary_accuracy: 0.7385 - val_auc: 0.8090\n",
            "Epoch 38/100\n",
            "9949/9949 [==============================] - 89s 9ms/step - loss: 0.5206 - binary_accuracy: 0.7468 - auc: 0.8196 - val_loss: 0.5360 - val_binary_accuracy: 0.7368 - val_auc: 0.8085\n",
            "Epoch 39/100\n",
            "9949/9949 [==============================] - 89s 9ms/step - loss: 0.5200 - binary_accuracy: 0.7475 - auc: 0.8201 - val_loss: 0.5358 - val_binary_accuracy: 0.7358 - val_auc: 0.8072\n",
            "Epoch 40/100\n",
            "9949/9949 [==============================] - 89s 9ms/step - loss: 0.5186 - binary_accuracy: 0.7491 - auc: 0.8212 - val_loss: 0.5357 - val_binary_accuracy: 0.7397 - val_auc: 0.8076\n",
            "Epoch 41/100\n",
            "9949/9949 [==============================] - 91s 9ms/step - loss: 0.5182 - binary_accuracy: 0.7493 - auc: 0.8215 - val_loss: 0.5427 - val_binary_accuracy: 0.7354 - val_auc: 0.8072\n",
            "Epoch 42/100\n",
            "9949/9949 [==============================] - 89s 9ms/step - loss: 0.5171 - binary_accuracy: 0.7492 - auc: 0.8224 - val_loss: 0.5392 - val_binary_accuracy: 0.7396 - val_auc: 0.8088\n",
            "Epoch 43/100\n",
            "9949/9949 [==============================] - 89s 9ms/step - loss: 0.5164 - binary_accuracy: 0.7502 - auc: 0.8231 - val_loss: 0.5394 - val_binary_accuracy: 0.7357 - val_auc: 0.8058\n",
            "Epoch 44/100\n",
            "9949/9949 [==============================] - 90s 9ms/step - loss: 0.5155 - binary_accuracy: 0.7509 - auc: 0.8237 - val_loss: 0.5408 - val_binary_accuracy: 0.7351 - val_auc: 0.8042\n",
            "Epoch 45/100\n",
            "9949/9949 [==============================] - 91s 9ms/step - loss: 0.5143 - binary_accuracy: 0.7514 - auc: 0.8247 - val_loss: 0.5436 - val_binary_accuracy: 0.7353 - val_auc: 0.8062\n",
            "Epoch 46/100\n",
            "9949/9949 [==============================] - 92s 9ms/step - loss: 0.5142 - binary_accuracy: 0.7510 - auc: 0.8248 - val_loss: 0.5375 - val_binary_accuracy: 0.7370 - val_auc: 0.8077\n",
            "Epoch 47/100\n",
            "9949/9949 [==============================] - 91s 9ms/step - loss: 0.5126 - binary_accuracy: 0.7526 - auc: 0.8262 - val_loss: 0.5410 - val_binary_accuracy: 0.7361 - val_auc: 0.8044\n",
            "Epoch 48/100\n",
            "9949/9949 [==============================] - 92s 9ms/step - loss: 0.5117 - binary_accuracy: 0.7529 - auc: 0.8268 - val_loss: 0.5408 - val_binary_accuracy: 0.7364 - val_auc: 0.8053\n",
            "Epoch 49/100\n",
            "9949/9949 [==============================] - 88s 9ms/step - loss: 0.5109 - binary_accuracy: 0.7530 - auc: 0.8274 - val_loss: 0.5400 - val_binary_accuracy: 0.7356 - val_auc: 0.8075\n",
            "Epoch 50/100\n",
            "9949/9949 [==============================] - 89s 9ms/step - loss: 0.5104 - binary_accuracy: 0.7534 - auc: 0.8278 - val_loss: 0.5560 - val_binary_accuracy: 0.7258 - val_auc: 0.7993\n",
            "Epoch 51/100\n",
            "9949/9949 [==============================] - 91s 9ms/step - loss: 0.5089 - binary_accuracy: 0.7542 - auc: 0.8290 - val_loss: 0.5438 - val_binary_accuracy: 0.7374 - val_auc: 0.8050\n",
            "Epoch 52/100\n",
            "9949/9949 [==============================] - 89s 9ms/step - loss: 0.5072 - binary_accuracy: 0.7550 - auc: 0.8303 - val_loss: 0.5387 - val_binary_accuracy: 0.7374 - val_auc: 0.8068\n",
            "Epoch 53/100\n",
            "9949/9949 [==============================] - 89s 9ms/step - loss: 0.5065 - binary_accuracy: 0.7553 - auc: 0.8308 - val_loss: 0.5420 - val_binary_accuracy: 0.7362 - val_auc: 0.8050\n",
            "Epoch 54/100\n",
            "9949/9949 [==============================] - 91s 9ms/step - loss: 0.5057 - binary_accuracy: 0.7562 - auc: 0.8313 - val_loss: 0.5560 - val_binary_accuracy: 0.7302 - val_auc: 0.7974\n",
            "Epoch 55/100\n",
            "9949/9949 [==============================] - 91s 9ms/step - loss: 0.5045 - binary_accuracy: 0.7577 - auc: 0.8324 - val_loss: 0.5407 - val_binary_accuracy: 0.7363 - val_auc: 0.8045\n",
            "Epoch 56/100\n",
            "9949/9949 [==============================] - 92s 9ms/step - loss: 0.5036 - binary_accuracy: 0.7577 - auc: 0.8330 - val_loss: 0.5441 - val_binary_accuracy: 0.7337 - val_auc: 0.8029\n",
            "Epoch 57/100\n",
            "9949/9949 [==============================] - 89s 9ms/step - loss: 0.5022 - binary_accuracy: 0.7582 - auc: 0.8341 - val_loss: 0.5476 - val_binary_accuracy: 0.7367 - val_auc: 0.8044\n",
            "Epoch 58/100\n",
            "9949/9949 [==============================] - 89s 9ms/step - loss: 0.5017 - binary_accuracy: 0.7584 - auc: 0.8345 - val_loss: 0.5423 - val_binary_accuracy: 0.7367 - val_auc: 0.8050\n",
            "Epoch 59/100\n",
            "9949/9949 [==============================] - 89s 9ms/step - loss: 0.4999 - binary_accuracy: 0.7593 - auc: 0.8358 - val_loss: 0.5454 - val_binary_accuracy: 0.7344 - val_auc: 0.8030\n",
            "Epoch 60/100\n",
            "9949/9949 [==============================] - 90s 9ms/step - loss: 0.4992 - binary_accuracy: 0.7602 - auc: 0.8362 - val_loss: 0.5473 - val_binary_accuracy: 0.7343 - val_auc: 0.8030\n",
            "Epoch 61/100\n",
            "9949/9949 [==============================] - 91s 9ms/step - loss: 0.4976 - binary_accuracy: 0.7607 - auc: 0.8375 - val_loss: 0.5568 - val_binary_accuracy: 0.7362 - val_auc: 0.8025\n",
            "Epoch 62/100\n",
            "9949/9949 [==============================] - 90s 9ms/step - loss: 0.4971 - binary_accuracy: 0.7614 - auc: 0.8379 - val_loss: 0.5513 - val_binary_accuracy: 0.7349 - val_auc: 0.7997\n",
            "Epoch 63/100\n",
            "9949/9949 [==============================] - 91s 9ms/step - loss: 0.4958 - binary_accuracy: 0.7618 - auc: 0.8389 - val_loss: 0.5587 - val_binary_accuracy: 0.7348 - val_auc: 0.8004\n",
            "Epoch 64/100\n",
            "9949/9949 [==============================] - 92s 9ms/step - loss: 0.4946 - binary_accuracy: 0.7629 - auc: 0.8397 - val_loss: 0.5528 - val_binary_accuracy: 0.7305 - val_auc: 0.7978\n",
            "Epoch 65/100\n",
            "9949/9949 [==============================] - 91s 9ms/step - loss: 0.4935 - binary_accuracy: 0.7637 - auc: 0.8405 - val_loss: 0.5528 - val_binary_accuracy: 0.7329 - val_auc: 0.8008\n",
            "Epoch 66/100\n",
            "9949/9949 [==============================] - 90s 9ms/step - loss: 0.4927 - binary_accuracy: 0.7641 - auc: 0.8410 - val_loss: 0.5627 - val_binary_accuracy: 0.7333 - val_auc: 0.8007\n",
            "Epoch 67/100\n",
            "9949/9949 [==============================] - 91s 9ms/step - loss: 0.4910 - binary_accuracy: 0.7650 - auc: 0.8423 - val_loss: 0.5558 - val_binary_accuracy: 0.7330 - val_auc: 0.7986\n",
            "Epoch 68/100\n",
            "9949/9949 [==============================] - 92s 9ms/step - loss: 0.4893 - binary_accuracy: 0.7661 - auc: 0.8434 - val_loss: 0.5549 - val_binary_accuracy: 0.7318 - val_auc: 0.8005\n",
            "Epoch 69/100\n",
            "9949/9949 [==============================] - 90s 9ms/step - loss: 0.4884 - binary_accuracy: 0.7662 - auc: 0.8441 - val_loss: 0.5706 - val_binary_accuracy: 0.7299 - val_auc: 0.7963\n",
            "Epoch 70/100\n",
            "9949/9949 [==============================] - 92s 9ms/step - loss: 0.4872 - binary_accuracy: 0.7669 - auc: 0.8450 - val_loss: 0.5735 - val_binary_accuracy: 0.7292 - val_auc: 0.7963\n",
            "Epoch 71/100\n",
            "9949/9949 [==============================] - 92s 9ms/step - loss: 0.4860 - binary_accuracy: 0.7679 - auc: 0.8458 - val_loss: 0.5826 - val_binary_accuracy: 0.7308 - val_auc: 0.7960\n",
            "Epoch 72/100\n",
            "9949/9949 [==============================] - 90s 9ms/step - loss: 0.4848 - binary_accuracy: 0.7683 - auc: 0.8467 - val_loss: 0.5704 - val_binary_accuracy: 0.7231 - val_auc: 0.7950\n",
            "Epoch 73/100\n",
            "9949/9949 [==============================] - 92s 9ms/step - loss: 0.4836 - binary_accuracy: 0.7695 - auc: 0.8474 - val_loss: 0.5668 - val_binary_accuracy: 0.7327 - val_auc: 0.7989\n",
            "Epoch 74/100\n",
            "9949/9949 [==============================] - 92s 9ms/step - loss: 0.4814 - binary_accuracy: 0.7704 - auc: 0.8490 - val_loss: 0.6069 - val_binary_accuracy: 0.7005 - val_auc: 0.7743\n",
            "Epoch 75/100\n",
            "9949/9949 [==============================] - 92s 9ms/step - loss: 0.4805 - binary_accuracy: 0.7717 - auc: 0.8495 - val_loss: 0.5730 - val_binary_accuracy: 0.7313 - val_auc: 0.7967\n",
            "Epoch 76/100\n",
            "9949/9949 [==============================] - 89s 9ms/step - loss: 0.4796 - binary_accuracy: 0.7721 - auc: 0.8503 - val_loss: 0.5677 - val_binary_accuracy: 0.7267 - val_auc: 0.7954\n",
            "Epoch 77/100\n",
            "9949/9949 [==============================] - 90s 9ms/step - loss: 0.4781 - binary_accuracy: 0.7722 - auc: 0.8511 - val_loss: 0.5634 - val_binary_accuracy: 0.7284 - val_auc: 0.7933\n",
            "Epoch 78/100\n",
            "9949/9949 [==============================] - 89s 9ms/step - loss: 0.4776 - binary_accuracy: 0.7725 - auc: 0.8515 - val_loss: 0.5704 - val_binary_accuracy: 0.7246 - val_auc: 0.7911\n",
            "Epoch 79/100\n",
            "9949/9949 [==============================] - 90s 9ms/step - loss: 0.4764 - binary_accuracy: 0.7732 - auc: 0.8522 - val_loss: 0.5711 - val_binary_accuracy: 0.7294 - val_auc: 0.7933\n",
            "Epoch 80/100\n",
            "9949/9949 [==============================] - 91s 9ms/step - loss: 0.4740 - binary_accuracy: 0.7743 - auc: 0.8538 - val_loss: 0.5904 - val_binary_accuracy: 0.7306 - val_auc: 0.7970\n",
            "Epoch 81/100\n",
            "9949/9949 [==============================] - 92s 9ms/step - loss: 0.4732 - binary_accuracy: 0.7751 - auc: 0.8544 - val_loss: 0.6301 - val_binary_accuracy: 0.7286 - val_auc: 0.7925\n",
            "Epoch 82/100\n",
            "9949/9949 [==============================] - 89s 9ms/step - loss: 0.4719 - binary_accuracy: 0.7759 - auc: 0.8553 - val_loss: 0.5757 - val_binary_accuracy: 0.7294 - val_auc: 0.7929\n",
            "Epoch 83/100\n",
            "9949/9949 [==============================] - 90s 9ms/step - loss: 0.4698 - binary_accuracy: 0.7773 - auc: 0.8567 - val_loss: 0.5814 - val_binary_accuracy: 0.7241 - val_auc: 0.7919\n",
            "Epoch 84/100\n",
            "9949/9949 [==============================] - 92s 9ms/step - loss: 0.4685 - binary_accuracy: 0.7778 - auc: 0.8575 - val_loss: 0.5784 - val_binary_accuracy: 0.7223 - val_auc: 0.7873\n",
            "Epoch 85/100\n",
            "9949/9949 [==============================] - 93s 9ms/step - loss: 0.4678 - binary_accuracy: 0.7782 - auc: 0.8580 - val_loss: 0.5797 - val_binary_accuracy: 0.7256 - val_auc: 0.7903\n",
            "Epoch 86/100\n",
            "9949/9949 [==============================] - 90s 9ms/step - loss: 0.4669 - binary_accuracy: 0.7790 - auc: 0.8587 - val_loss: 0.5782 - val_binary_accuracy: 0.7268 - val_auc: 0.7906\n",
            "Epoch 87/100\n",
            "9949/9949 [==============================] - 93s 9ms/step - loss: 0.4654 - binary_accuracy: 0.7794 - auc: 0.8595 - val_loss: 0.5944 - val_binary_accuracy: 0.7265 - val_auc: 0.7908\n",
            "Epoch 88/100\n",
            "9949/9949 [==============================] - 90s 9ms/step - loss: 0.4640 - binary_accuracy: 0.7809 - auc: 0.8603 - val_loss: 0.5852 - val_binary_accuracy: 0.7211 - val_auc: 0.7813\n",
            "Epoch 89/100\n",
            "9949/9949 [==============================] - 91s 9ms/step - loss: 0.4621 - binary_accuracy: 0.7816 - auc: 0.8616 - val_loss: 0.5911 - val_binary_accuracy: 0.7212 - val_auc: 0.7851\n",
            "Epoch 90/100\n",
            "9949/9949 [==============================] - 90s 9ms/step - loss: 0.4606 - binary_accuracy: 0.7820 - auc: 0.8625 - val_loss: 0.6068 - val_binary_accuracy: 0.7271 - val_auc: 0.7899\n",
            "Epoch 91/100\n",
            "9949/9949 [==============================] - 94s 9ms/step - loss: 0.4593 - binary_accuracy: 0.7833 - auc: 0.8635 - val_loss: 0.5932 - val_binary_accuracy: 0.7273 - val_auc: 0.7896\n",
            "Epoch 92/100\n",
            "9949/9949 [==============================] - 92s 9ms/step - loss: 0.4582 - binary_accuracy: 0.7843 - auc: 0.8641 - val_loss: 0.5994 - val_binary_accuracy: 0.7263 - val_auc: 0.7884\n",
            "Epoch 93/100\n",
            "9949/9949 [==============================] - 91s 9ms/step - loss: 0.4578 - binary_accuracy: 0.7841 - auc: 0.8643 - val_loss: 0.6020 - val_binary_accuracy: 0.7261 - val_auc: 0.7888\n",
            "Epoch 94/100\n",
            "9949/9949 [==============================] - 90s 9ms/step - loss: 0.4572 - binary_accuracy: 0.7840 - auc: 0.8648 - val_loss: 0.5951 - val_binary_accuracy: 0.7188 - val_auc: 0.7829\n",
            "Epoch 95/100\n",
            "9949/9949 [==============================] - 91s 9ms/step - loss: 0.4545 - binary_accuracy: 0.7856 - auc: 0.8664 - val_loss: 0.6030 - val_binary_accuracy: 0.7262 - val_auc: 0.7848\n",
            "Epoch 96/100\n",
            "9949/9949 [==============================] - 93s 9ms/step - loss: 0.4532 - binary_accuracy: 0.7868 - auc: 0.8673 - val_loss: 0.6105 - val_binary_accuracy: 0.7202 - val_auc: 0.7816\n",
            "Epoch 97/100\n",
            "9949/9949 [==============================] - 93s 9ms/step - loss: 0.4529 - binary_accuracy: 0.7869 - auc: 0.8675 - val_loss: 0.6019 - val_binary_accuracy: 0.7200 - val_auc: 0.7838\n",
            "Epoch 98/100\n",
            "9949/9949 [==============================] - 93s 9ms/step - loss: 0.4516 - binary_accuracy: 0.7883 - auc: 0.8683 - val_loss: 0.6005 - val_binary_accuracy: 0.7200 - val_auc: 0.7805\n",
            "Epoch 99/100\n",
            "9949/9949 [==============================] - 93s 9ms/step - loss: 0.4494 - binary_accuracy: 0.7889 - auc: 0.8696 - val_loss: 0.6056 - val_binary_accuracy: 0.7236 - val_auc: 0.7859\n",
            "Epoch 100/100\n",
            "9949/9949 [==============================] - 91s 9ms/step - loss: 0.4480 - binary_accuracy: 0.7889 - auc: 0.8703 - val_loss: 0.6145 - val_binary_accuracy: 0.7233 - val_auc: 0.7831\n"
          ]
        }
      ],
      "source": [
        "history = model.fit(x=train_x, y=train_y, batch_size=32, epochs=100, validation_data=(valid_x, valid_y))"
      ]
    },
    {
      "cell_type": "code",
      "execution_count": null,
      "metadata": {
        "colab": {
          "base_uri": "https://localhost:8080/"
        },
        "id": "tYnFog3LQkEO",
        "outputId": "3b3207a4-b3d2-4a1b-cdc3-b41b97592f01"
      },
      "outputs": [
        {
          "name": "stdout",
          "output_type": "stream",
          "text": [
            "3110/3110 [==============================] - 9s 3ms/step\n"
          ]
        },
        {
          "data": {
            "text/plain": [
              "0.7862643509662941"
            ]
          },
          "execution_count": 10,
          "metadata": {},
          "output_type": "execute_result"
        }
      ],
      "source": [
        "# Evaluate model on test set\n",
        "y_pred = model.predict(test_x)\n",
        "roc_auc_score(test_y, y_pred)"
      ]
    },
    {
      "cell_type": "markdown",
      "metadata": {
        "id": "r2519OQi8RwJ"
      },
      "source": [
        "Best ROC AUC score (train) : 0.8703 </br>\n",
        "Best ROC AUC score (validate) : 0.8093 </br>\n",
        "Best ROC AUC score (test) : 0.7863 </br>"
      ]
    }
  ],
  "metadata": {
    "accelerator": "GPU",
    "colab": {
      "provenance": [],
      "authorship_tag": "ABX9TyO3viRRS7k94PbUhl0D72as",
      "include_colab_link": true
    },
    "gpuClass": "standard",
    "kernelspec": {
      "display_name": "Python 3",
      "name": "python3"
    },
    "language_info": {
      "name": "python"
    }
  },
  "nbformat": 4,
  "nbformat_minor": 0
}