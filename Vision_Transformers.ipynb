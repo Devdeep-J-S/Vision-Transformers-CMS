{
  "metadata": {
    "kernelspec": {
      "language": "python",
      "display_name": "Python 3",
      "name": "python3"
    },
    "language_info": {
      "name": "python",
      "version": "3.7.12",
      "mimetype": "text/x-python",
      "codemirror_mode": {
        "name": "ipython",
        "version": 3
      },
      "pygments_lexer": "ipython3",
      "nbconvert_exporter": "python",
      "file_extension": ".py"
    },
    "colab": {
      "provenance": [],
      "include_colab_link": true
    },
    "accelerator": "GPU",
    "gpuClass": "standard"
  },
  "nbformat_minor": 0,
  "nbformat": 4,
  "cells": [
    {
      "cell_type": "markdown",
      "metadata": {
        "id": "view-in-github",
        "colab_type": "text"
      },
      "source": [
        "<a href=\"https://colab.research.google.com/github/Devdeep-J-S/Vision-Transformers-CMS/blob/main/Vision_Transformers.ipynb\" target=\"_parent\"><img src=\"https://colab.research.google.com/assets/colab-badge.svg\" alt=\"Open In Colab\"/></a>"
      ]
    },
    {
      "cell_type": "markdown",
      "source": [
        "Name : Devdeep Shetranjiwala <br>\n",
        "Email ID : devdeep0702@gmail.com "
      ],
      "metadata": {
        "id": "H4Ot2PeP_S9n"
      }
    },
    {
      "cell_type": "markdown",
      "source": [
        "## Specific Task : Vision Transformers\n",
        "\n",
        "Description:\n",
        "> Train a Transformer model of your choice on the dataset below to achieve the performance closest to your CNN model’s performance in Task 1. </br>\n",
        "> Discuss the resulting performance of the 2 chosen architectures.\n",
        "## (The discussion is done at the end of the code)\n",
        "\n",
        "Datasets (Same as in Task 1): </br>\n",
        "https://cernbox.cern.ch/index.php/s/AtBT8y4MiQYFcgc (Photons) </br>\n",
        "https://cernbox.cern.ch/index.php/s/FbXw3V4XNyYB3oA (Electrons)"
      ],
      "metadata": {
        "id": "hZ_FSKO-_VS8"
      }
    },
    {
      "cell_type": "code",
      "source": [
        "import numpy as np\n",
        "import tensorflow as tf\n",
        "from tensorflow import keras\n",
        "from tensorflow.keras import layers\n",
        "import h5py\n",
        "from sklearn.model_selection import train_test_split"
      ],
      "metadata": {
        "_uuid": "8f2839f25d086af736a60e9eeb907d3b93b6e0e5",
        "_cell_guid": "b1076dfc-b9ad-4769-8c92-a6c4dae69d19",
        "execution": {
          "iopub.status.busy": "2023-03-30T10:22:37.034110Z",
          "iopub.execute_input": "2023-03-30T10:22:37.034546Z",
          "iopub.status.idle": "2023-03-30T10:22:47.835677Z",
          "shell.execute_reply.started": "2023-03-30T10:22:37.034507Z",
          "shell.execute_reply": "2023-03-30T10:22:47.833964Z"
        },
        "trusted": true,
        "id": "Ogq7SgzZKRFe"
      },
      "execution_count": null,
      "outputs": []
    },
    {
      "cell_type": "code",
      "source": [
        "print(\"Num of GPUs Available: \", len(tf.config.list_physical_devices('GPU')))"
      ],
      "metadata": {
        "execution": {
          "iopub.status.busy": "2023-03-30T10:22:47.838164Z",
          "iopub.execute_input": "2023-03-30T10:22:47.839519Z",
          "iopub.status.idle": "2023-03-30T10:22:47.845833Z",
          "shell.execute_reply.started": "2023-03-30T10:22:47.839466Z",
          "shell.execute_reply": "2023-03-30T10:22:47.844137Z"
        },
        "trusted": true,
        "id": "f2z5tnTzKRFf",
        "colab": {
          "base_uri": "https://localhost:8080/"
        },
        "outputId": "73cff649-a870-4b0b-eeb9-14f812138fc0"
      },
      "execution_count": null,
      "outputs": [
        {
          "output_type": "stream",
          "name": "stdout",
          "text": [
            "Num of GPUs Available:  1\n"
          ]
        }
      ]
    },
    {
      "cell_type": "code",
      "source": [
        "import requests\n",
        "url = 'https://cernbox.cern.ch/remote.php/dav/public-files/AtBT8y4MiQYFcgc/SinglePhotonPt50_IMGCROPS_n249k_RHv1.hdf5'\n",
        "r = requests.get(url, allow_redirects=True)\n",
        "open('photons.hdf5', 'wb').write(r.content)\n",
        "url = 'https://cernbox.cern.ch/remote.php/dav/public-files/FbXw3V4XNyYB3oA/SingleElectronPt50_IMGCROPS_n249k_RHv1.hdf5'\n",
        "r = requests.get(url, allow_redirects=True)\n",
        "open('electrons.hdf5', 'wb').write(r.content)"
      ],
      "metadata": {
        "colab": {
          "base_uri": "https://localhost:8080/"
        },
        "id": "Qel5bkKhQV43",
        "outputId": "93aaa817-53b6-4961-cb5e-441504d338ef"
      },
      "execution_count": null,
      "outputs": [
        {
          "output_type": "execute_result",
          "data": {
            "text/plain": [
              "128927319"
            ]
          },
          "metadata": {},
          "execution_count": 5
        }
      ]
    },
    {
      "cell_type": "code",
      "source": [
        "file_electron = \"electrons.hdf5\"\n",
        "file_photon = \"photons.hdf5\"\n",
        "\n",
        "with h5py.File(file_electron, \"r\") as f1:\n",
        "    X_elec = np.array(f1['X'][:])\n",
        "    y_elec = np.array(f1['y'][:])\n",
        "with h5py.File(file_photon, \"r\") as f2:\n",
        "    X_phot = np.array(f2['X'][:])\n",
        "    y_phot = np.array(f2['y'][:])\n",
        "print(X_elec.shape)\n",
        "print(X_phot.shape)\n",
        "del(file_electron,file_photon)"
      ],
      "metadata": {
        "execution": {
          "iopub.status.busy": "2023-03-30T10:22:47.852210Z",
          "iopub.execute_input": "2023-03-30T10:22:47.852870Z",
          "iopub.status.idle": "2023-03-30T10:23:04.698031Z",
          "shell.execute_reply.started": "2023-03-30T10:22:47.852827Z",
          "shell.execute_reply": "2023-03-30T10:23:04.696976Z"
        },
        "trusted": true,
        "id": "yVwFiyX4KRFg",
        "outputId": "0db103c2-6e1e-481e-d14d-0625bb14e584",
        "colab": {
          "base_uri": "https://localhost:8080/"
        }
      },
      "execution_count": null,
      "outputs": [
        {
          "output_type": "stream",
          "name": "stdout",
          "text": [
            "(249000, 32, 32, 2)\n",
            "(249000, 32, 32, 2)\n"
          ]
        }
      ]
    },
    {
      "cell_type": "code",
      "source": [
        "num_classes = 2\n",
        "input_shape = (32, 32, 2)\n",
        "X = np.append(X_elec, X_phot, axis=0)\n",
        "y = np.append(y_elec, y_phot)\n",
        "X.shape\n",
        "del(X_elec,X_phot,y_elec,y_phot)"
      ],
      "metadata": {
        "execution": {
          "iopub.status.busy": "2023-03-30T10:23:04.699354Z",
          "iopub.execute_input": "2023-03-30T10:23:04.699909Z",
          "iopub.status.idle": "2023-03-30T10:23:06.428309Z",
          "shell.execute_reply.started": "2023-03-30T10:23:04.699871Z",
          "shell.execute_reply": "2023-03-30T10:23:06.426963Z"
        },
        "trusted": true,
        "id": "P83V9HNBKRFh"
      },
      "execution_count": null,
      "outputs": []
    },
    {
      "cell_type": "code",
      "source": [
        "x_train, x_test, y_train, y_test = train_test_split(X, y, test_size=0.2, random_state=42, stratify=y)\n",
        "del(X,y)"
      ],
      "metadata": {
        "execution": {
          "iopub.status.busy": "2023-03-30T10:23:06.429739Z",
          "iopub.execute_input": "2023-03-30T10:23:06.430108Z",
          "iopub.status.idle": "2023-03-30T10:23:08.734546Z",
          "shell.execute_reply.started": "2023-03-30T10:23:06.430072Z",
          "shell.execute_reply": "2023-03-30T10:23:08.733146Z"
        },
        "trusted": true,
        "id": "lZsYCg8tKRFh"
      },
      "execution_count": null,
      "outputs": []
    },
    {
      "cell_type": "code",
      "source": [
        "y_train = keras.utils.to_categorical(y_train, num_classes=2)\n",
        "y_test = keras.utils.to_categorical(y_test, num_classes=2)"
      ],
      "metadata": {
        "execution": {
          "iopub.status.busy": "2023-03-30T10:23:08.736203Z",
          "iopub.execute_input": "2023-03-30T10:23:08.736627Z",
          "iopub.status.idle": "2023-03-30T10:23:08.750806Z",
          "shell.execute_reply.started": "2023-03-30T10:23:08.736566Z",
          "shell.execute_reply": "2023-03-30T10:23:08.749434Z"
        },
        "trusted": true,
        "id": "SDH1Z7oGKRFh"
      },
      "execution_count": null,
      "outputs": []
    },
    {
      "cell_type": "code",
      "source": [
        "learning_rate = 0.0001\n",
        "batch_size = 256\n",
        "num_epochs = 50\n",
        "patch_size = 2\n",
        "num_patches = (input_shape[0]//patch_size)**2\n",
        "projection_dim = 64\n",
        "num_heads = 2\n",
        "transformer_units = [\n",
        "    projection_dim * 2,\n",
        "    projection_dim,\n",
        "]\n",
        "transformer_layers = 2\n",
        "mlp_head_units = [512, 256]"
      ],
      "metadata": {
        "execution": {
          "iopub.status.busy": "2023-03-30T10:23:08.752606Z",
          "iopub.execute_input": "2023-03-30T10:23:08.752997Z",
          "iopub.status.idle": "2023-03-30T10:23:08.759666Z",
          "shell.execute_reply.started": "2023-03-30T10:23:08.752959Z",
          "shell.execute_reply": "2023-03-30T10:23:08.758603Z"
        },
        "trusted": true,
        "id": "fGdpYMpVKRFh"
      },
      "execution_count": null,
      "outputs": []
    },
    {
      "cell_type": "code",
      "source": [
        "def mlp(x, hidden_units):\n",
        "    for units in hidden_units:\n",
        "        x = layers.Dense(units, activation=tf.nn.gelu)(x)\n",
        "    return x"
      ],
      "metadata": {
        "execution": {
          "iopub.status.busy": "2023-03-30T10:23:08.761104Z",
          "iopub.execute_input": "2023-03-30T10:23:08.762198Z",
          "iopub.status.idle": "2023-03-30T10:23:08.773157Z",
          "shell.execute_reply.started": "2023-03-30T10:23:08.762118Z",
          "shell.execute_reply": "2023-03-30T10:23:08.771321Z"
        },
        "trusted": true,
        "id": "O7WITRb5KRFi"
      },
      "execution_count": null,
      "outputs": []
    },
    {
      "cell_type": "code",
      "source": [
        "class Patches(layers.Layer):\n",
        "    def __init__(self, patch_size):\n",
        "        super(Patches, self).__init__()\n",
        "        self.patch_size = patch_size\n",
        "\n",
        "    def call(self, images):\n",
        "        batch_size = tf.shape(images)[0]\n",
        "        patches = tf.image.extract_patches(\n",
        "            images=images,\n",
        "            sizes=[1, self.patch_size, self.patch_size, 1],\n",
        "            strides=[1, self.patch_size, self.patch_size, 1],\n",
        "            rates=[1, 1, 1, 1],\n",
        "            padding=\"VALID\",\n",
        "        )\n",
        "        patch_dims = patches.shape[-1]\n",
        "        patches = tf.reshape(patches, [batch_size, -1, patch_dims])\n",
        "        return patches"
      ],
      "metadata": {
        "execution": {
          "iopub.status.busy": "2023-03-30T10:23:08.777353Z",
          "iopub.execute_input": "2023-03-30T10:23:08.777872Z",
          "iopub.status.idle": "2023-03-30T10:23:08.788082Z",
          "shell.execute_reply.started": "2023-03-30T10:23:08.777825Z",
          "shell.execute_reply": "2023-03-30T10:23:08.786603Z"
        },
        "trusted": true,
        "id": "gPvb7gS8KRFi"
      },
      "execution_count": null,
      "outputs": []
    },
    {
      "cell_type": "code",
      "source": [
        "class PatchEncoder(layers.Layer):\n",
        "    def __init__(self, num_patches, projection_dim):\n",
        "        super(PatchEncoder, self).__init__()\n",
        "        self.num_patches = num_patches\n",
        "        self.projection = layers.Dense(units=projection_dim)\n",
        "        self.position_embedding = layers.Embedding(\n",
        "            input_dim=num_patches, output_dim=projection_dim\n",
        "        )\n",
        "\n",
        "    def call(self, patch):\n",
        "        positions = tf.range(start=0, limit=self.num_patches, delta=1)\n",
        "        encoded = self.projection(patch) + self.position_embedding(positions)\n",
        "        return encoded"
      ],
      "metadata": {
        "execution": {
          "iopub.status.busy": "2023-03-30T10:23:08.789629Z",
          "iopub.execute_input": "2023-03-30T10:23:08.790059Z",
          "iopub.status.idle": "2023-03-30T10:23:08.803828Z",
          "shell.execute_reply.started": "2023-03-30T10:23:08.790017Z",
          "shell.execute_reply": "2023-03-30T10:23:08.802674Z"
        },
        "trusted": true,
        "id": "4lftRsGNKRFi"
      },
      "execution_count": null,
      "outputs": []
    },
    {
      "cell_type": "code",
      "source": [
        "def create_vit_classifier():\n",
        "    inputs = layers.Input(shape=input_shape)\n",
        "    patches = Patches(patch_size)(inputs)\n",
        "    encoded_patches = PatchEncoder(num_patches, projection_dim)(patches)\n",
        "\n",
        "    for _ in range(transformer_layers):\n",
        "        x1 = layers.LayerNormalization(epsilon=1e-6)(encoded_patches)\n",
        "        attention_output = layers.MultiHeadAttention(\n",
        "            num_heads=num_heads, key_dim=projection_dim, dropout=0\n",
        "        )(x1, x1)\n",
        "        x2 = layers.Add()([attention_output, encoded_patches])\n",
        "        x3 = layers.LayerNormalization(epsilon=1e-6)(x2)\n",
        "        x3 = mlp(x3, hidden_units=transformer_units)\n",
        "        encoded_patches = layers.Add()([x3, x2])\n",
        "    representation = layers.LayerNormalization(epsilon=1e-6)(encoded_patches)\n",
        "    representation = layers.Flatten()(representation)\n",
        "    features = mlp(representation, hidden_units=mlp_head_units)\n",
        "    outputs = layers.Dense(num_classes, activation='softmax')(features)\n",
        "    model = keras.Model(inputs=inputs, outputs=outputs)\n",
        "    return model"
      ],
      "metadata": {
        "execution": {
          "iopub.status.busy": "2023-03-30T10:23:08.805683Z",
          "iopub.execute_input": "2023-03-30T10:23:08.806399Z",
          "iopub.status.idle": "2023-03-30T10:23:08.816088Z",
          "shell.execute_reply.started": "2023-03-30T10:23:08.806355Z",
          "shell.execute_reply": "2023-03-30T10:23:08.814949Z"
        },
        "trusted": true,
        "id": "6JVFvushKRFi"
      },
      "execution_count": null,
      "outputs": []
    },
    {
      "cell_type": "code",
      "source": [
        "def run_experiment(model):\n",
        "    model.compile(optimizer=tf.optimizers.Adam(learning_rate=learning_rate), loss='categorical_crossentropy', metrics=[tf.keras.metrics.AUC()])\n",
        "    \n",
        "    reduce_lr = tf.keras.callbacks.ReduceLROnPlateau(monitor='val_auc', factor=0.2,\n",
        "                              patience=10, min_lr=1e-10   , verbose=1)\n",
        "    history = model.fit(\n",
        "        x=x_train,\n",
        "        y=y_train,\n",
        "        batch_size=batch_size,\n",
        "        epochs=num_epochs,\n",
        "        validation_split=0.1,\n",
        "        callbacks=[reduce_lr]\n",
        "    )\n",
        "    return model, history"
      ],
      "metadata": {
        "execution": {
          "iopub.status.busy": "2023-03-30T10:23:08.817786Z",
          "iopub.execute_input": "2023-03-30T10:23:08.818478Z",
          "iopub.status.idle": "2023-03-30T10:23:08.833125Z",
          "shell.execute_reply.started": "2023-03-30T10:23:08.818429Z",
          "shell.execute_reply": "2023-03-30T10:23:08.831599Z"
        },
        "trusted": true,
        "id": "bQM31Y2uKRFj"
      },
      "execution_count": null,
      "outputs": []
    },
    {
      "cell_type": "code",
      "source": [
        "vit_classifier = create_vit_classifier()\n",
        "model, history = run_experiment(vit_classifier)"
      ],
      "metadata": {
        "execution": {
          "iopub.status.busy": "2023-03-30T10:23:08.835118Z",
          "iopub.execute_input": "2023-03-30T10:23:08.835968Z"
        },
        "trusted": true,
        "id": "eYLKfBxGKRFj",
        "outputId": "fb4fa3ce-47aa-48e4-8eb1-7098a5c29fc0",
        "colab": {
          "base_uri": "https://localhost:8080/"
        }
      },
      "execution_count": null,
      "outputs": [
        {
          "output_type": "stream",
          "name": "stdout",
          "text": [
            "Epoch 1/50\n",
            "1401/1401 [==============================] - 172s 113ms/step - loss: 0.6733 - auc: 0.6385 - val_loss: 0.6478 - val_auc: 0.6729 - lr: 1.0000e-04\n",
            "Epoch 2/50\n",
            "1401/1401 [==============================] - 163s 116ms/step - loss: 0.6318 - auc: 0.6976 - val_loss: 0.6121 - val_auc: 0.7287 - lr: 1.0000e-04\n",
            "Epoch 3/50\n",
            "1401/1401 [==============================] - 163s 116ms/step - loss: 0.6153 - auc: 0.7218 - val_loss: 0.6269 - val_auc: 0.7157 - lr: 1.0000e-04\n",
            "Epoch 4/50\n",
            "1401/1401 [==============================] - 163s 116ms/step - loss: 0.6047 - auc: 0.7355 - val_loss: 0.6086 - val_auc: 0.7398 - lr: 1.0000e-04\n",
            "Epoch 5/50\n",
            "1401/1401 [==============================] - 163s 116ms/step - loss: 0.5992 - auc: 0.7421 - val_loss: 0.5999 - val_auc: 0.7424 - lr: 1.0000e-04\n",
            "Epoch 6/50\n",
            "1401/1401 [==============================] - 163s 116ms/step - loss: 0.5926 - auc: 0.7495 - val_loss: 0.5970 - val_auc: 0.7497 - lr: 1.0000e-04\n",
            "Epoch 7/50\n",
            "1401/1401 [==============================] - 163s 116ms/step - loss: 0.5877 - auc: 0.7549 - val_loss: 0.5846 - val_auc: 0.7589 - lr: 1.0000e-04\n",
            "Epoch 8/50\n",
            "1401/1401 [==============================] - 163s 116ms/step - loss: 0.5815 - auc: 0.7618 - val_loss: 0.5804 - val_auc: 0.7631 - lr: 1.0000e-04\n",
            "Epoch 9/50\n",
            "1401/1401 [==============================] - 163s 116ms/step - loss: 0.5772 - auc: 0.7664 - val_loss: 0.5825 - val_auc: 0.7609 - lr: 1.0000e-04\n",
            "Epoch 10/50\n",
            "1401/1401 [==============================] - 159s 114ms/step - loss: 0.5734 - auc: 0.7705 - val_loss: 0.5732 - val_auc: 0.7715 - lr: 1.0000e-04\n",
            "Epoch 11/50\n",
            "1401/1401 [==============================] - ETA: 0s - loss: 0.5694 - auc: 0.7747\n",
            "Epoch 11: ReduceLROnPlateau reducing learning rate to 1.9999999494757503e-05.\n",
            "1401/1401 [==============================] - 163s 116ms/step - loss: 0.5694 - auc: 0.7747 - val_loss: 0.5851 - val_auc: 0.7607 - lr: 1.0000e-04\n",
            "Epoch 12/50\n",
            "1401/1401 [==============================] - 163s 116ms/step - loss: 0.5551 - auc: 0.7890 - val_loss: 0.5681 - val_auc: 0.7759 - lr: 2.0000e-05\n",
            "Epoch 13/50\n",
            "1401/1401 [==============================] - 159s 114ms/step - loss: 0.5531 - auc: 0.7909 - val_loss: 0.5667 - val_auc: 0.7781 - lr: 2.0000e-05\n",
            "Epoch 14/50\n",
            "1401/1401 [==============================] - 159s 113ms/step - loss: 0.5516 - auc: 0.7923 - val_loss: 0.5656 - val_auc: 0.7787 - lr: 2.0000e-05\n",
            "Epoch 15/50\n",
            "1401/1401 [==============================] - 163s 116ms/step - loss: 0.5499 - auc: 0.7939 - val_loss: 0.5662 - val_auc: 0.7780 - lr: 2.0000e-05\n",
            "Epoch 16/50\n",
            "1401/1401 [==============================] - 161s 115ms/step - loss: 0.5483 - auc: 0.7954 - val_loss: 0.5657 - val_auc: 0.7786 - lr: 2.0000e-05\n",
            "Epoch 17/50\n",
            "1401/1401 [==============================] - 157s 112ms/step - loss: 0.5470 - auc: 0.7966 - val_loss: 0.5663 - val_auc: 0.7782 - lr: 2.0000e-05\n",
            "Epoch 18/50\n",
            "1401/1401 [==============================] - 160s 114ms/step - loss: 0.5454 - auc: 0.7981 - val_loss: 0.5658 - val_auc: 0.7792 - lr: 2.0000e-05\n",
            "Epoch 19/50\n",
            "1401/1401 [==============================] - 160s 114ms/step - loss: 0.5434 - auc: 0.8000 - val_loss: 0.5680 - val_auc: 0.7776 - lr: 2.0000e-05\n",
            "Epoch 20/50\n",
            "1401/1401 [==============================] - 160s 114ms/step - loss: 0.5419 - auc: 0.8014 - val_loss: 0.5671 - val_auc: 0.7773 - lr: 2.0000e-05\n",
            "Epoch 21/50\n",
            "1401/1401 [==============================] - ETA: 0s - loss: 0.5403 - auc: 0.8028\n",
            "Epoch 21: ReduceLROnPlateau reducing learning rate to 3.999999898951501e-06.\n",
            "1401/1401 [==============================] - 156s 111ms/step - loss: 0.5403 - auc: 0.8028 - val_loss: 0.5667 - val_auc: 0.7783 - lr: 2.0000e-05\n",
            "Epoch 22/50\n",
            "1401/1401 [==============================] - 160s 114ms/step - loss: 0.5345 - auc: 0.8081 - val_loss: 0.5653 - val_auc: 0.7794 - lr: 4.0000e-06\n",
            "Epoch 23/50\n",
            "1401/1401 [==============================] - 160s 114ms/step - loss: 0.5337 - auc: 0.8088 - val_loss: 0.5659 - val_auc: 0.7794 - lr: 4.0000e-06\n",
            "Epoch 24/50\n",
            "1401/1401 [==============================] - 160s 114ms/step - loss: 0.5332 - auc: 0.8093 - val_loss: 0.5666 - val_auc: 0.7782 - lr: 4.0000e-06\n",
            "Epoch 25/50\n",
            "1401/1401 [==============================] - 160s 114ms/step - loss: 0.5326 - auc: 0.8098 - val_loss: 0.5658 - val_auc: 0.7795 - lr: 4.0000e-06\n",
            "Epoch 26/50\n",
            "1401/1401 [==============================] - 160s 114ms/step - loss: 0.5321 - auc: 0.8102 - val_loss: 0.5662 - val_auc: 0.7793 - lr: 4.0000e-06\n",
            "Epoch 27/50\n",
            "1401/1401 [==============================] - 160s 114ms/step - loss: 0.5315 - auc: 0.8108 - val_loss: 0.5666 - val_auc: 0.7788 - lr: 4.0000e-06\n",
            "Epoch 28/50\n",
            "1401/1401 [==============================] - 160s 114ms/step - loss: 0.5311 - auc: 0.8111 - val_loss: 0.5665 - val_auc: 0.7784 - lr: 4.0000e-06\n",
            "Epoch 29/50\n",
            "1401/1401 [==============================] - 160s 114ms/step - loss: 0.5305 - auc: 0.8116 - val_loss: 0.5667 - val_auc: 0.7780 - lr: 4.0000e-06\n",
            "Epoch 30/50\n",
            "1401/1401 [==============================] - 160s 114ms/step - loss: 0.5299 - auc: 0.8122 - val_loss: 0.5668 - val_auc: 0.7789 - lr: 4.0000e-06\n",
            "Epoch 31/50\n",
            "1401/1401 [==============================] - ETA: 0s - loss: 0.5295 - auc: 0.8125\n",
            "Epoch 31: ReduceLROnPlateau reducing learning rate to 7.999999979801942e-07.\n",
            "1401/1401 [==============================] - 160s 114ms/step - loss: 0.5295 - auc: 0.8125 - val_loss: 0.5670 - val_auc: 0.7786 - lr: 4.0000e-06\n",
            "Epoch 32/50\n",
            "1401/1401 [==============================] - 162s 115ms/step - loss: 0.5278 - auc: 0.8140 - val_loss: 0.5667 - val_auc: 0.7792 - lr: 8.0000e-07\n",
            "Epoch 33/50\n",
            "1401/1401 [==============================] - 161s 115ms/step - loss: 0.5277 - auc: 0.8141 - val_loss: 0.5666 - val_auc: 0.7788 - lr: 8.0000e-07\n",
            "Epoch 34/50\n",
            "1401/1401 [==============================] - 162s 115ms/step - loss: 0.5275 - auc: 0.8142 - val_loss: 0.5669 - val_auc: 0.7789 - lr: 8.0000e-07\n",
            "Epoch 35/50\n",
            "1401/1401 [==============================] - 162s 116ms/step - loss: 0.5274 - auc: 0.8143 - val_loss: 0.5667 - val_auc: 0.7786 - lr: 8.0000e-07\n",
            "Epoch 36/50\n",
            "1401/1401 [==============================] - 161s 115ms/step - loss: 0.5273 - auc: 0.8144 - val_loss: 0.5671 - val_auc: 0.7786 - lr: 8.0000e-07\n",
            "Epoch 37/50\n",
            "1401/1401 [==============================] - 161s 115ms/step - loss: 0.5272 - auc: 0.8145 - val_loss: 0.5670 - val_auc: 0.7788 - lr: 8.0000e-07\n",
            "Epoch 38/50\n",
            "1401/1401 [==============================] - 161s 115ms/step - loss: 0.5271 - auc: 0.8146 - val_loss: 0.5670 - val_auc: 0.7790 - lr: 8.0000e-07\n",
            "Epoch 39/50\n",
            "1401/1401 [==============================] - 161s 115ms/step - loss: 0.5269 - auc: 0.8147 - val_loss: 0.5669 - val_auc: 0.7786 - lr: 8.0000e-07\n",
            "Epoch 40/50\n",
            "1401/1401 [==============================] - 161s 115ms/step - loss: 0.5268 - auc: 0.8148 - val_loss: 0.5669 - val_auc: 0.7787 - lr: 8.0000e-07\n",
            "Epoch 41/50\n",
            "1401/1401 [==============================] - ETA: 0s - loss: 0.5267 - auc: 0.8149\n",
            "Epoch 41: ReduceLROnPlateau reducing learning rate to 1.600000018697756e-07.\n",
            "1401/1401 [==============================] - 157s 112ms/step - loss: 0.5267 - auc: 0.8149 - val_loss: 0.5668 - val_auc: 0.7785 - lr: 8.0000e-07\n",
            "Epoch 42/50\n",
            "1401/1401 [==============================] - 161s 115ms/step - loss: 0.5263 - auc: 0.8153 - val_loss: 0.5670 - val_auc: 0.7787 - lr: 1.6000e-07\n",
            "Epoch 43/50\n",
            "1401/1401 [==============================] - 161s 115ms/step - loss: 0.5263 - auc: 0.8153 - val_loss: 0.5669 - val_auc: 0.7788 - lr: 1.6000e-07\n",
            "Epoch 44/50\n",
            "1401/1401 [==============================] - 161s 115ms/step - loss: 0.5263 - auc: 0.8153 - val_loss: 0.5670 - val_auc: 0.7787 - lr: 1.6000e-07\n",
            "Epoch 45/50\n",
            "1401/1401 [==============================] - 157s 112ms/step - loss: 0.5262 - auc: 0.8153 - val_loss: 0.5670 - val_auc: 0.7788 - lr: 1.6000e-07\n",
            "Epoch 46/50\n",
            "1401/1401 [==============================] - 157s 112ms/step - loss: 0.5262 - auc: 0.8154 - val_loss: 0.5670 - val_auc: 0.7787 - lr: 1.6000e-07\n",
            "Epoch 47/50\n",
            "1401/1401 [==============================] - 161s 115ms/step - loss: 0.5262 - auc: 0.8154 - val_loss: 0.5670 - val_auc: 0.7788 - lr: 1.6000e-07\n",
            "Epoch 48/50\n",
            "1401/1401 [==============================] - 157s 112ms/step - loss: 0.5262 - auc: 0.8154 - val_loss: 0.5670 - val_auc: 0.7788 - lr: 1.6000e-07\n",
            "Epoch 49/50\n",
            "1401/1401 [==============================] - 161s 115ms/step - loss: 0.5261 - auc: 0.8154 - val_loss: 0.5670 - val_auc: 0.7788 - lr: 1.6000e-07\n",
            "Epoch 50/50\n",
            "1401/1401 [==============================] - 161s 115ms/step - loss: 0.5261 - auc: 0.8154 - val_loss: 0.5670 - val_auc: 0.7787 - lr: 1.6000e-07\n"
          ]
        }
      ]
    },
    {
      "cell_type": "code",
      "source": [
        "model.evaluate(x_test,y_test)"
      ],
      "metadata": {
        "trusted": true,
        "id": "N-v8kKKdKRFj",
        "colab": {
          "base_uri": "https://localhost:8080/"
        },
        "outputId": "d33d4d49-b662-47ec-e19f-54b789ab2bda"
      },
      "execution_count": null,
      "outputs": [
        {
          "output_type": "stream",
          "name": "stdout",
          "text": [
            "3113/3113 [==============================] - 30s 10ms/step - loss: 0.5670 - auc: 0.7786\n"
          ]
        },
        {
          "output_type": "execute_result",
          "data": {
            "text/plain": [
              "[0.5669955611228943, 0.7785612940788269]"
            ]
          },
          "metadata": {},
          "execution_count": 14
        }
      ]
    },
    {
      "cell_type": "markdown",
      "source": [
        "Discuss the resulting performance of the 2 chosen architectures.\n",
        "> The AUC score is low because of lower no. of epochs still it is comperable to keras and pytorch score of 0.8."
      ],
      "metadata": {
        "id": "95DTq9h9_LZ9"
      }
    }
  ]
}